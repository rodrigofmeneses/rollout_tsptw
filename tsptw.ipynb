{
 "cells": [
  {
   "cell_type": "code",
   "execution_count": 9,
   "metadata": {},
   "outputs": [],
   "source": [
    "import numpy as np\r\n",
    "from numba import jit"
   ]
  },
  {
   "cell_type": "code",
   "execution_count": 10,
   "metadata": {},
   "outputs": [],
   "source": [
    "def read_data(path):\r\n",
    "    instance_author = path.split('/')[-2]\r\n",
    "    coordinates = []\r\n",
    "    intervals = []\r\n",
    "\r\n",
    "    if instance_author == 'DaSilvaUrrutia':\r\n",
    "        with open(path, 'r') as reader:\r\n",
    "            reader.readline()\r\n",
    "            for line in reader:\r\n",
    "                _, x, y, _, a, b, _ = line.split()\r\n",
    "                \r\n",
    "                coordinates.append((float(x), float(y)))\r\n",
    "                intervals.append((float(a), float(b)))\r\n",
    "\r\n",
    "    elif instance_author == 'DumasEtAl':\r\n",
    "        with open(path, 'r') as reader:        \r\n",
    "            [reader.readline() for i in range(6)]\r\n",
    "            for line in reader:\r\n",
    "                _, x, y, _, a, b, _ = line.split()\r\n",
    "                    \r\n",
    "                coordinates.append((float(x), float(y)))\r\n",
    "                intervals.append((float(a), float(b)))\r\n",
    "            \r\n",
    "            coordinates.pop()\r\n",
    "            intervals.pop()\r\n",
    "\r\n",
    "    elif instance_author == 'GendreauEtAl':\r\n",
    "        with open(path, 'r') as reader:        \r\n",
    "            [reader.readline() for i in range(6)]\r\n",
    "            for line in reader:\r\n",
    "                _, x, y, _, a, b, _ = line.split()\r\n",
    "                    \r\n",
    "                coordinates.append((float(x), float(y)))\r\n",
    "                intervals.append((float(a), float(b)))\r\n",
    "            \r\n",
    "            coordinates.pop()\r\n",
    "            intervals.pop()\r\n",
    "\r\n",
    "    elif instance_author == 'OhlmannThomas':\r\n",
    "        with open(path, 'r') as reader:        \r\n",
    "            [reader.readline() for i in range(6)]\r\n",
    "            for line in reader:\r\n",
    "                _, x, y, _, a, b, _ = line.split()\r\n",
    "                    \r\n",
    "                coordinates.append((float(x), float(y)))\r\n",
    "                intervals.append((float(a), float(b)))\r\n",
    "            \r\n",
    "            coordinates.pop()\r\n",
    "            intervals.pop()\r\n",
    "\r\n",
    "    dimension = len(coordinates)\r\n",
    "    distance_matrix = np.zeros((dimension, dimension))\r\n",
    "    \r\n",
    "    for i in range(dimension):\r\n",
    "        for j in range(i + 1, dimension):\r\n",
    "            px = np.power(coordinates[i][0] - coordinates[j][0], 2)\r\n",
    "            py = np.power(coordinates[i][1] - coordinates[j][1], 2)\r\n",
    "            dist = np.floor(np.sqrt(px + py))\r\n",
    "            distance_matrix[i, j] = dist\r\n",
    "            distance_matrix[j, i] = dist\r\n",
    "\r\n",
    "    problem = {\r\n",
    "        'coordinates': coordinates,\r\n",
    "        'intervals': intervals,\r\n",
    "        'distance_matrix': distance_matrix,\r\n",
    "        'dimension': dimension\r\n",
    "    }\r\n",
    "    \r\n",
    "    return problem"
   ]
  },
  {
   "cell_type": "code",
   "execution_count": 11,
   "metadata": {},
   "outputs": [],
   "source": [
    "def pre_process(distance_matrix, intervals):\r\n",
    "    for i in range(len(intervals)):\r\n",
    "        for j in range(len(intervals)):\r\n",
    "            if intervals[i][0] + distance_matrix[i, j] > intervals[j][1]:\r\n",
    "                distance_matrix[i, j] = np.int32(99999)\r\n",
    "                # distance_matrix[j, i] = np.inf"
   ]
  },
  {
   "cell_type": "code",
   "execution_count": 12,
   "metadata": {},
   "outputs": [],
   "source": [
    "def calculate_solution_cost(solution, distance_matrix):\r\n",
    "    '''\r\n",
    "        Calc cost of solution.\r\n",
    "        solution: solution of traveler, ex:\r\n",
    "        [0, 2, 4, 1, 3, 0]  <- for 5 cities and starting city is 0 \r\n",
    "        distance_matrix: costs of arcs\r\n",
    "        return: cost of solution\r\n",
    "    '''\r\n",
    "    cost = 0.\r\n",
    "    for i in range(len(solution) - 1):\r\n",
    "        cost += distance_matrix[solution[i]][solution[i+1]]\r\n",
    "    return cost"
   ]
  },
  {
   "cell_type": "code",
   "execution_count": 13,
   "metadata": {},
   "outputs": [],
   "source": [
    "def is_feasible(solution, distance_matrix, intervals):\r\n",
    "    cost = 0\r\n",
    "    current_node = solution[0]\r\n",
    "    node_flags = [True] * len(solution)\r\n",
    "\r\n",
    "    for i in solution[1:]:\r\n",
    "\r\n",
    "        # TSP constraint\r\n",
    "        if node_flags[i] == True:\r\n",
    "            node_flags[i] = False\r\n",
    "        else:\r\n",
    "            return cost, False\r\n",
    "        \r\n",
    "        # Windows Constraint\r\n",
    "        if cost < intervals[current_node][0]:\r\n",
    "            cost = intervals[current_node][0]\r\n",
    "        elif cost > intervals[current_node][1]:\r\n",
    "            return False\r\n",
    "        cost += distance_matrix[current_node, i]\r\n",
    "        current_node = i\r\n",
    "    \r\n",
    "    return cost, True"
   ]
  },
  {
   "cell_type": "code",
   "execution_count": 14,
   "metadata": {},
   "outputs": [],
   "source": [
    "@jit(nopython=True)\r\n",
    "def best_step(current_state, current_time, actions, distance_matrix, intervals):\r\n",
    "    best_step = 0\r\n",
    "    best_distance = np.int32(99999)\r\n",
    "    for step in actions:\r\n",
    "        if current_time < intervals[step][0]:\r\n",
    "            current_distance = intervals[step][0] + distance_matrix[current_state, step]\r\n",
    "        else:\r\n",
    "            current_distance = current_time + distance_matrix[current_state, step]\r\n",
    "        if current_distance < best_distance:\r\n",
    "            best_distance = current_distance\r\n",
    "            best_step = step\r\n",
    "    return np.int32(best_step)"
   ]
  },
  {
   "cell_type": "code",
   "execution_count": 15,
   "metadata": {},
   "outputs": [],
   "source": [
    "@jit(nopython=True)\r\n",
    "def one_step_viability(solution, current_time, distance_matrix, intervals):\r\n",
    "    all_states = np.arange(distance_matrix.shape[0], dtype=np.int32)\r\n",
    "    actions = np.zeros(1, dtype=np.int32)[:-1]\r\n",
    "\r\n",
    "    for step in all_states:\r\n",
    "        if step in solution:\r\n",
    "            continue\r\n",
    "        elif distance_matrix[solution[-1], step] == np.int32(99999):\r\n",
    "            continue\r\n",
    "        one_step_time = current_time + distance_matrix[solution[-1], step]\r\n",
    "        if one_step_time < intervals[step][1]:\r\n",
    "            actions = np.append(actions, step)\r\n",
    "    \r\n",
    "    return actions"
   ]
  },
  {
   "cell_type": "code",
   "execution_count": 16,
   "metadata": {},
   "outputs": [],
   "source": [
    "@jit(nopython=True)\r\n",
    "def backtraking_greed_policy(solution, current_time, distance_matrix, intervals):\r\n",
    "    i = 0\r\n",
    "    num_nodes = distance_matrix.shape[0]\r\n",
    "    level = []\r\n",
    "    # level = np.zeros(1, dtype=np.int32)[:-1]\r\n",
    "    time_control = np.zeros(num_nodes, dtype=np.int32)\r\n",
    "    time_control[i] = current_time\r\n",
    "    # time_control = [current_time]\r\n",
    "    \r\n",
    "    while solution.size != num_nodes:\r\n",
    "        # Existem ações pra seguir?\r\n",
    "        if i >= len(level):\r\n",
    "            actions = one_step_viability(solution, current_time, distance_matrix, intervals)\r\n",
    "            # level.append(actions.copy())\r\n",
    "            level.append(actions)\r\n",
    "            if i == 0 and actions.size == 0:\r\n",
    "                # Infeasible\r\n",
    "                print('Infeasible')\r\n",
    "                return solution\r\n",
    "            continue\r\n",
    "\r\n",
    "        if len(level[i]) != 0:\r\n",
    "            # step = np.random.choice((level[i]))\r\n",
    "            step = best_step(solution[-1], current_time, (level[i]), distance_matrix, intervals)\r\n",
    "            rm = np.where(level[i] == step)[0][0]\r\n",
    "            \r\n",
    "            level[i] = np.delete(level[i], rm)\r\n",
    "            solution = np.append(solution, step)\r\n",
    "\r\n",
    "            if current_time + distance_matrix[solution[-2], solution[-1]]\\\r\n",
    "                <= intervals[solution[-1]][0]:\r\n",
    "                current_time = intervals[solution[-1]][0]\r\n",
    "            else:\r\n",
    "                current_time += distance_matrix[solution[-2], solution[-1]]\r\n",
    "            \r\n",
    "            i += 1\r\n",
    "            time_control[i] = current_time\r\n",
    "        else:\r\n",
    "            level.pop()\r\n",
    "            solution = solution[:-1]\r\n",
    "            i -= 1\r\n",
    "            current_time = time_control[i]\r\n",
    "            time_control[i + 1] = 0\r\n",
    "\r\n",
    "    return solution"
   ]
  },
  {
   "cell_type": "code",
   "execution_count": 18,
   "metadata": {},
   "outputs": [
    {
     "name": "stdout",
     "output_type": "stream",
     "text": [
      "[ 0 16 19  9 17 18 10  5 15  1 11 12  6 13  7  2  4  8 20  3 14]\n"
     ]
    },
    {
     "data": {
      "text/plain": [
       "(367.0, True)"
      ]
     },
     "execution_count": 18,
     "metadata": {},
     "output_type": "execute_result"
    }
   ],
   "source": [
    "# path = '/home/rodrigomeneses/Documents/repositorios/rollout_tsptw/instances/tsptw_data/DumasEtAl/n20w20.001.txt'\r\n",
    "np.random.seed(555)\r\n",
    "path = 'instances/tsptw_data/DumasEtAl/n20w20.001.txt'\r\n",
    "problem = read_data(path)\r\n",
    "# pre_process(problem['distance_matrix'], problem['intervals'])\r\n",
    "\r\n",
    "# solution = np.array([1, 17, 10, 20, 18, 19, 11, 6, 16, 2, 12, 13, 7, 14, 8, 3, 5, 9, 21, 4, 15, 1]) - 1\r\n",
    "# solution = np.array([1, 2, 15, 19, 5, 9, 8, 6, 16, 12, 17, 20, 18, 11, 13, 4, 7, 3, 21, 10, 14, 1]) - 1\r\n",
    "# solution = np.array([1, 6, 20, 14, 2, 9, 17, 5, 10, 4, 8, 16, 15, 18, 12, 3, 11, 19, 21, 7, 13, 1]) - 1\r\n",
    "# solution = np.array([1, 12, 4, 3, 20, 8, 16, 10, 9, 6, 7, 11, 15, 5, 13, 17, 19, 14, 21, 18, 2, 1]) - 1\r\n",
    "# solution = np.array([1, 20, 12, 8, 19, 17, 14, 9, 4, 18, 3, 6, 11, 5, 16, 10, 15, 7, 21, 2, 13, 1]) - 1\r\n",
    "solution = backtraking_greed_policy(np.array([0], dtype=np.int32), 0, np.array(problem['distance_matrix'], dtype=np.int32), np.array(problem['intervals'], dtype=np.int32))\r\n",
    "print(solution)\r\n",
    "is_feasible(solution, problem['distance_matrix'], problem['intervals'])"
   ]
  },
  {
   "cell_type": "code",
   "execution_count": 22,
   "metadata": {},
   "outputs": [
    {
     "data": {
      "text/plain": [
       "361.0"
      ]
     },
     "execution_count": 22,
     "metadata": {},
     "output_type": "execute_result"
    }
   ],
   "source": [
    "calculate_solution_cost([ 0, 16,  9, 19, 17, 18, 10,  5, 15,  1, 11, 12,  6, 13,  7,  2,  4,  8, 20,  3, 14], problem['distance_matrix'])"
   ]
  },
  {
   "cell_type": "code",
   "execution_count": 30,
   "metadata": {},
   "outputs": [],
   "source": [
    "np.random.seed(555)\r\n",
    "path = 'instances/tsptw_data/DumasEtAl/n40w40.001.txt'\r\n",
    "problem = read_data(path)\r\n",
    "# pre_process(problem['distance_matrix'], problem['intervals'])\r\n",
    "\r\n",
    "solution = backtraking_greed_policy(np.array([0], dtype=np.int32), 0, np.array(problem['distance_matrix'], dtype=np.int32), np.array(problem['intervals'], dtype=np.int32))\r\n",
    "print(solution)\r\n",
    "is_feasible(solution, problem['distance_matrix'], problem['intervals'])"
   ]
  },
  {
   "cell_type": "code",
   "execution_count": 28,
   "metadata": {},
   "outputs": [
    {
     "data": {
      "text/plain": [
       "(297.0, True)"
      ]
     },
     "execution_count": 28,
     "metadata": {},
     "output_type": "execute_result"
    }
   ],
   "source": [
    "np.random.seed(555)\r\n",
    "path = 'instances/tsptw_data/DumasEtAl/n20w80.005.txt'\r\n",
    "problem = read_data(path)\r\n",
    "pre_process(problem['distance_matrix'], problem['intervals'])\r\n",
    "\r\n",
    "print(solution)\r\n",
    "solution = backtraking_greed_policy(np.array([0], dtype=np.int32), 0, np.array(problem['distance_matrix'], dtype=np.int32), np.array(problem['intervals'], dtype=np.int32))\r\n",
    "is_feasible(solution, problem['distance_matrix'], problem['intervals'])"
   ]
  },
  {
   "cell_type": "code",
   "execution_count": null,
   "metadata": {},
   "outputs": [],
   "source": []
  }
 ],
 "metadata": {
  "interpreter": {
   "hash": "2462a5e6d325a4f7fb86b9687f65f4e6709c3b54df771fa1746f94613b41bdab"
  },
  "kernelspec": {
   "display_name": "Python 3.8.10 64-bit",
   "name": "python3"
  },
  "language_info": {
   "codemirror_mode": {
    "name": "ipython",
    "version": 3
   },
   "file_extension": ".py",
   "mimetype": "text/x-python",
   "name": "python",
   "nbconvert_exporter": "python",
   "pygments_lexer": "ipython3",
   "version": "3.8.10"
  },
  "orig_nbformat": 4
 },
 "nbformat": 4,
 "nbformat_minor": 2
}