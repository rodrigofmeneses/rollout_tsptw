{
 "cells": [
  {
   "cell_type": "code",
   "execution_count": 2,
   "metadata": {},
   "outputs": [],
   "source": [
    "import os\n",
    "from scipy.spatial.distance import pdist\n",
    "from scipy.spatial.distance import squareform"
   ]
  },
  {
   "cell_type": "code",
   "execution_count": 7,
   "metadata": {},
   "outputs": [],
   "source": [
    "# os.listdir('../../instances/tsptw_data/')\r\n",
    "instance_author = 'DaSilvaUrrutia'\r\n",
    "instance_author = 'DumasEtAL'\r\n",
    "instance_author = 'GendreauEtAl'\r\n",
    "instance_author = 'OhlmannThomas'\r\n",
    "\r\n",
    "def read_data(path):\r\n",
    "    instance_author = path.split('/')[-2]\r\n",
    "    coordinates = []\r\n",
    "    intervals = []\r\n",
    "\r\n",
    "    if instance_author == 'DaSilvaUrrutia':\r\n",
    "        with open(path, 'r') as reader:\r\n",
    "            reader.readline()\r\n",
    "            for line in reader:\r\n",
    "                _, x, y, _, a, b, _ = line.split()\r\n",
    "                \r\n",
    "                coordinates.append((float(x), float(y)))\r\n",
    "                intervals.append((float(a), float(b)))\r\n",
    "\r\n",
    "    elif instance_author == 'DumasEtAl':\r\n",
    "        with open(path, 'r') as reader:        \r\n",
    "            [reader.readline() for i in range(6)]\r\n",
    "            for line in reader:\r\n",
    "                _, x, y, _, a, b, _ = line.split()\r\n",
    "                    \r\n",
    "                coordinates.append((float(x), float(y)))\r\n",
    "                intervals.append((float(a), float(b)))\r\n",
    "            \r\n",
    "            coordinates.pop()\r\n",
    "            intervals.pop()\r\n",
    "\r\n",
    "    elif instance_author == 'GendreauEtAl':\r\n",
    "        with open(path, 'r') as reader:        \r\n",
    "            [reader.readline() for i in range(6)]\r\n",
    "            for line in reader:\r\n",
    "                _, x, y, _, a, b, _ = line.split()\r\n",
    "                    \r\n",
    "                coordinates.append((float(x), float(y)))\r\n",
    "                intervals.append((float(a), float(b)))\r\n",
    "            \r\n",
    "            coordinates.pop()\r\n",
    "            intervals.pop()\r\n",
    "\r\n",
    "    elif instance_author == 'OhlmannThomas':\r\n",
    "        with open(path, 'r') as reader:        \r\n",
    "            [reader.readline() for i in range(6)]\r\n",
    "            for line in reader:\r\n",
    "                _, x, y, _, a, b, _ = line.split()\r\n",
    "                    \r\n",
    "                coordinates.append((float(x), float(y)))\r\n",
    "                intervals.append((float(a), float(b)))\r\n",
    "            \r\n",
    "            coordinates.pop()\r\n",
    "            intervals.pop()\r\n",
    "\r\n",
    "    problem = {\r\n",
    "        'coordinates': coordinates,\r\n",
    "        'intervals': intervals,\r\n",
    "        'distance_matrix': squareform(pdist(coordinates)),\r\n",
    "        'dimension': len(coordinates)\r\n",
    "    }\r\n",
    "    \r\n",
    "    return problem"
   ]
  },
  {
   "cell_type": "code",
   "execution_count": 10,
   "metadata": {},
   "outputs": [],
   "source": [
    "def calculate_tour_cost(tour, distance_matrix):\r\n",
    "    '''\r\n",
    "        Calc cost of tour.\r\n",
    "        tour: tour of traveler, ex:\r\n",
    "        [0, 2, 4, 1, 3, 0]  <- for 5 cities and starting city is 0 \r\n",
    "        distance_matrix: costs of arcs\r\n",
    "        return: cost of tour\r\n",
    "    '''\r\n",
    "    cost = 0.\r\n",
    "    for i in range(len(tour) - 1):\r\n",
    "        cost += distance_matrix[tour[i]][tour[i+1]]\r\n",
    "    return cost"
   ]
  },
  {
   "cell_type": "code",
   "execution_count": null,
   "metadata": {},
   "outputs": [],
   "source": [
    "def is_viable(tour, distance_matrix, intervals):\n",
    "    '''\n",
    "        t\n",
    "    '''\n",
    "    \n",
    "    if len(tour) != len(intervals):\n",
    "        return False\n",
    "\n",
    "    t = 0\n",
    "    current_city = tour[0]\n",
    "    \n",
    "    for i in tour[1:]:\n",
    "        t += distance_matrix[current_city, i]\n",
    "        if t <= intervals[0] or t >= intervals[1]:\n",
    "            return False\n",
    "    \n",
    "    return True"
   ]
  },
  {
   "cell_type": "code",
   "execution_count": 11,
   "metadata": {},
   "outputs": [
    {
     "name": "stdout",
     "output_type": "stream",
     "text": [
      "94.72961246326201\n"
     ]
    }
   ],
   "source": [
    "path = '/home/rodrigomeneses/Documents/repositorios/rollout_tsptw/instances/tsptw_data/DumasEtAl/n20w20.001.txt'\n",
    "problem = read_data(path)\n",
    "\n",
    "calculate_tour_cost([1,2,3,4], problem['distance_matrix'])\n"
   ]
  }
 ],
 "metadata": {
  "interpreter": {
   "hash": "916dbcbb3f70747c44a77c7bcd40155683ae19c65e1c03b4aa3499c5328201f1"
  },
  "kernelspec": {
   "display_name": "Python 3.8.10 64-bit",
   "name": "python3"
  },
  "language_info": {
   "name": "python",
   "version": ""
  },
  "orig_nbformat": 4
 },
 "nbformat": 4,
 "nbformat_minor": 2
}